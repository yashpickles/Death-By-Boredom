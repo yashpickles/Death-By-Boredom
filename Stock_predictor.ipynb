{
  "nbformat": 4,
  "nbformat_minor": 0,
  "metadata": {
    "colab": {
      "name": "Untitled2.ipynb",
      "provenance": [],
      "toc_visible": true,
      "authorship_tag": "ABX9TyOsTMJF4hys42tkQtRikGXZ",
      "include_colab_link": true
    },
    "kernelspec": {
      "name": "python3",
      "display_name": "Python 3"
    }
  },
  "cells": [
    {
      "cell_type": "markdown",
      "metadata": {
        "id": "view-in-github",
        "colab_type": "text"
      },
      "source": [
        "<a href=\"https://colab.research.google.com/github/yashpickles/Death-By-Boredom/blob/master/Stock_predictor.ipynb\" target=\"_parent\"><img src=\"https://colab.research.google.com/assets/colab-badge.svg\" alt=\"Open In Colab\"/></a>"
      ]
    },
    {
      "cell_type": "markdown",
      "metadata": {
        "id": "a-MzkdRf92vC"
      },
      "source": [
        "# **Stock Price Predictor**\r\n",
        "### **-Yash Acharya**"
      ]
    },
    {
      "cell_type": "markdown",
      "metadata": {
        "id": "lgxXMBvx-PcS"
      },
      "source": [
        "## **Importing the Libraries**"
      ]
    },
    {
      "cell_type": "code",
      "metadata": {
        "id": "pYZexlRS-VXC"
      },
      "source": [
        "import numpy as np\r\n",
        "import matplotlib.pyplot as plt\r\n",
        "import pandas as pd\r\n",
        "import pandas_datareader as web\r\n",
        "import datetime as dt"
      ],
      "execution_count": 55,
      "outputs": []
    },
    {
      "cell_type": "markdown",
      "metadata": {
        "id": "yNUQUMEK-wkq"
      },
      "source": [
        "## **Importing the Dataset**"
      ]
    },
    {
      "cell_type": "code",
      "metadata": {
        "id": "cEmZP6zD-32Z"
      },
      "source": [
        "dataset = pd.read_csv('Microsoft_Stock_share.csv')"
      ],
      "execution_count": 56,
      "outputs": []
    },
    {
      "cell_type": "code",
      "metadata": {
        "colab": {
          "base_uri": "https://localhost:8080/",
          "height": 204
        },
        "id": "lPWLGUAGCbS7",
        "outputId": "ea9dcef1-39e8-42f7-e23c-76bee5e835eb"
      },
      "source": [
        "dataset.head()"
      ],
      "execution_count": 57,
      "outputs": [
        {
          "output_type": "execute_result",
          "data": {
            "text/html": [
              "<div>\n",
              "<style scoped>\n",
              "    .dataframe tbody tr th:only-of-type {\n",
              "        vertical-align: middle;\n",
              "    }\n",
              "\n",
              "    .dataframe tbody tr th {\n",
              "        vertical-align: top;\n",
              "    }\n",
              "\n",
              "    .dataframe thead th {\n",
              "        text-align: right;\n",
              "    }\n",
              "</style>\n",
              "<table border=\"1\" class=\"dataframe\">\n",
              "  <thead>\n",
              "    <tr style=\"text-align: right;\">\n",
              "      <th></th>\n",
              "      <th>Date</th>\n",
              "      <th>Open</th>\n",
              "      <th>High</th>\n",
              "      <th>Low</th>\n",
              "      <th>Close</th>\n",
              "      <th>Adj Close</th>\n",
              "      <th>Volume</th>\n",
              "    </tr>\n",
              "  </thead>\n",
              "  <tbody>\n",
              "    <tr>\n",
              "      <th>0</th>\n",
              "      <td>2020-11-13</td>\n",
              "      <td>216.360001</td>\n",
              "      <td>217.419998</td>\n",
              "      <td>214.160004</td>\n",
              "      <td>216.509995</td>\n",
              "      <td>215.944641</td>\n",
              "      <td>18621100</td>\n",
              "    </tr>\n",
              "    <tr>\n",
              "      <th>1</th>\n",
              "      <td>2020-11-16</td>\n",
              "      <td>214.869995</td>\n",
              "      <td>217.740005</td>\n",
              "      <td>214.520004</td>\n",
              "      <td>217.229996</td>\n",
              "      <td>216.662766</td>\n",
              "      <td>24953300</td>\n",
              "    </tr>\n",
              "    <tr>\n",
              "      <th>2</th>\n",
              "      <td>2020-11-17</td>\n",
              "      <td>216.100006</td>\n",
              "      <td>217.679993</td>\n",
              "      <td>214.080002</td>\n",
              "      <td>214.460007</td>\n",
              "      <td>213.900009</td>\n",
              "      <td>24154100</td>\n",
              "    </tr>\n",
              "    <tr>\n",
              "      <th>3</th>\n",
              "      <td>2020-11-18</td>\n",
              "      <td>213.649994</td>\n",
              "      <td>215.169998</td>\n",
              "      <td>210.929993</td>\n",
              "      <td>211.080002</td>\n",
              "      <td>211.080002</td>\n",
              "      <td>28372800</td>\n",
              "    </tr>\n",
              "    <tr>\n",
              "      <th>4</th>\n",
              "      <td>2020-11-19</td>\n",
              "      <td>211.380005</td>\n",
              "      <td>213.029999</td>\n",
              "      <td>209.929993</td>\n",
              "      <td>212.419998</td>\n",
              "      <td>212.419998</td>\n",
              "      <td>24792700</td>\n",
              "    </tr>\n",
              "  </tbody>\n",
              "</table>\n",
              "</div>"
            ],
            "text/plain": [
              "         Date        Open        High  ...       Close   Adj Close    Volume\n",
              "0  2020-11-13  216.360001  217.419998  ...  216.509995  215.944641  18621100\n",
              "1  2020-11-16  214.869995  217.740005  ...  217.229996  216.662766  24953300\n",
              "2  2020-11-17  216.100006  217.679993  ...  214.460007  213.900009  24154100\n",
              "3  2020-11-18  213.649994  215.169998  ...  211.080002  211.080002  28372800\n",
              "4  2020-11-19  211.380005  213.029999  ...  212.419998  212.419998  24792700\n",
              "\n",
              "[5 rows x 7 columns]"
            ]
          },
          "metadata": {
            "tags": []
          },
          "execution_count": 57
        }
      ]
    },
    {
      "cell_type": "code",
      "metadata": {
        "colab": {
          "base_uri": "https://localhost:8080/"
        },
        "id": "f3qRJPsFCg0x",
        "outputId": "61c8ba1d-c16e-4d0c-93e3-eb604d8360d5"
      },
      "source": [
        "dataset.shape"
      ],
      "execution_count": 58,
      "outputs": [
        {
          "output_type": "execute_result",
          "data": {
            "text/plain": [
              "(58, 7)"
            ]
          },
          "metadata": {
            "tags": []
          },
          "execution_count": 58
        }
      ]
    },
    {
      "cell_type": "markdown",
      "metadata": {
        "id": "jIP_HBXa_FJq"
      },
      "source": [
        "## **Miscellaneous**"
      ]
    },
    {
      "cell_type": "code",
      "metadata": {
        "id": "hxsSamPg_Ly6"
      },
      "source": [
        "company = 'MSFT'"
      ],
      "execution_count": 59,
      "outputs": []
    },
    {
      "cell_type": "code",
      "metadata": {
        "id": "VE9gpskY_vi5"
      },
      "source": [
        "Prediction_days = 50"
      ],
      "execution_count": 60,
      "outputs": []
    },
    {
      "cell_type": "markdown",
      "metadata": {
        "id": "8NQPQO1k_sY6"
      },
      "source": [
        "## **Feature Scalling**"
      ]
    },
    {
      "cell_type": "code",
      "metadata": {
        "id": "SKxHmmi1AKjb"
      },
      "source": [
        "from sklearn.preprocessing import MinMaxScaler\r\n",
        "Scaler = MinMaxScaler(feature_range = (0, 1))\r\n",
        "Scaled_data = Scaler.fit_transform(dataset['Close'].values.reshape(-1, 1))"
      ],
      "execution_count": 61,
      "outputs": []
    },
    {
      "cell_type": "code",
      "metadata": {
        "colab": {
          "base_uri": "https://localhost:8080/"
        },
        "id": "vcyCsLr1BfFj",
        "outputId": "1e32f752-54c5-4ccf-e3ab-b76780fad9d6"
      },
      "source": [
        "print(Scaled_data)"
      ],
      "execution_count": 62,
      "outputs": [
        {
          "output_type": "stream",
          "text": [
            "[[0.19458784]\n",
            " [0.21647903]\n",
            " [0.13225923]\n",
            " [0.02949228]\n",
            " [0.07023404]\n",
            " [0.00851319]\n",
            " [0.        ]\n",
            " [0.11401642]\n",
            " [0.1143203 ]\n",
            " [0.15567027]\n",
            " [0.12040154]\n",
            " [0.1854669 ]\n",
            " [0.15992687]\n",
            " [0.12557023]\n",
            " [0.12921861]\n",
            " [0.12709008]\n",
            " [0.17938565]\n",
            " [0.05138347]\n",
            " [0.01246591]\n",
            " [0.09577361]\n",
            " [0.1243538 ]\n",
            " [0.12222573]\n",
            " [0.2788081 ]\n",
            " [0.28306469]\n",
            " [0.257829  ]\n",
            " [0.37944652]\n",
            " [0.42049261]\n",
            " [0.33171188]\n",
            " [0.38431133]\n",
            " [0.45150521]\n",
            " [0.42687727]\n",
            " [0.35177842]\n",
            " [0.37427783]\n",
            " [0.23046525]\n",
            " [0.23684991]\n",
            " [0.06506535]\n",
            " [0.2487076 ]\n",
            " [0.28914548]\n",
            " [0.22438446]\n",
            " [0.14654886]\n",
            " [0.18941915]\n",
            " [0.08847685]\n",
            " [0.07722692]\n",
            " [0.19245977]\n",
            " [0.43265418]\n",
            " [0.45180909]\n",
            " [0.48160525]\n",
            " [0.59045298]\n",
            " [0.67558533]\n",
            " [0.69291559]\n",
            " [0.87625396]\n",
            " [0.66433586]\n",
            " [0.89814515]\n",
            " [0.89388855]\n",
            " [1.        ]\n",
            " [0.9698995 ]\n",
            " [0.9756764 ]\n",
            " [0.98388572]]\n"
          ],
          "name": "stdout"
        }
      ]
    },
    {
      "cell_type": "code",
      "metadata": {
        "colab": {
          "base_uri": "https://localhost:8080/"
        },
        "id": "KnUMrycACrYr",
        "outputId": "363e10e2-e89a-4d58-9d49-e894a00020d5"
      },
      "source": [
        "print(dataset)"
      ],
      "execution_count": 63,
      "outputs": [
        {
          "output_type": "stream",
          "text": [
            "          Date        Open        High  ...       Close   Adj Close    Volume\n",
            "0   2020-11-13  216.360001  217.419998  ...  216.509995  215.944641  18621100\n",
            "1   2020-11-16  214.869995  217.740005  ...  217.229996  216.662766  24953300\n",
            "2   2020-11-17  216.100006  217.679993  ...  214.460007  213.900009  24154100\n",
            "3   2020-11-18  213.649994  215.169998  ...  211.080002  211.080002  28372800\n",
            "4   2020-11-19  211.380005  213.029999  ...  212.419998  212.419998  24792700\n",
            "5   2020-11-20  212.199997  213.289993  ...  210.389999  210.389999  22843100\n",
            "6   2020-11-23  210.949997  212.289993  ...  210.110001  210.110001  25683500\n",
            "7   2020-11-24  209.589996  214.250000  ...  213.860001  213.860001  33979700\n",
            "8   2020-11-25  215.110001  215.289993  ...  213.869995  213.869995  21012900\n",
            "9   2020-11-27  214.850006  216.270004  ...  215.229996  215.229996  14512200\n",
            "10  2020-11-30  214.100006  214.759995  ...  214.070007  214.070007  33064800\n",
            "11  2020-12-01  214.509995  217.320007  ...  216.210007  216.210007  30931300\n",
            "12  2020-12-02  214.880005  215.470001  ...  215.369995  215.369995  23724500\n",
            "13  2020-12-03  214.610001  216.380005  ...  214.240005  214.240005  25120900\n",
            "14  2020-12-04  214.220001  215.380005  ...  214.360001  214.360001  24666000\n",
            "15  2020-12-07  214.369995  215.539993  ...  214.289993  214.289993  24620000\n",
            "16  2020-12-08  213.970001  216.949997  ...  216.009995  216.009995  23284100\n",
            "17  2020-12-09  215.160004  215.229996  ...  211.800003  211.800003  32440600\n",
            "18  2020-12-10  211.770004  213.080002  ...  210.520004  210.520004  26733300\n",
            "19  2020-12-11  210.050003  213.320007  ...  213.259995  213.259995  30979400\n",
            "20  2020-12-14  213.100006  216.210007  ...  214.199997  214.199997  28798400\n",
            "21  2020-12-15  215.169998  215.419998  ...  214.130005  214.130005  27018100\n",
            "22  2020-12-16  214.750000  220.110001  ...  219.279999  219.279999  35023300\n",
            "23  2020-12-17  219.869995  220.889999  ...  219.419998  219.419998  32515800\n",
            "24  2020-12-18  218.589996  219.690002  ...  218.589996  218.589996  63354900\n",
            "25  2020-12-21  217.550003  224.000000  ...  222.589996  222.589996  37181900\n",
            "26  2020-12-22  222.690002  225.630005  ...  223.940002  223.940002  22612200\n",
            "27  2020-12-23  223.110001  223.559998  ...  221.020004  221.020004  18699600\n",
            "28  2020-12-24  221.419998  223.610001  ...  222.750000  222.750000  10550600\n",
            "29  2020-12-28  224.449997  226.029999  ...  224.960007  224.960007  17933500\n",
            "30  2020-12-29  226.309998  227.179993  ...  224.149994  224.149994  17403200\n",
            "31  2020-12-30  225.229996  225.630005  ...  221.679993  221.679993  20272300\n",
            "32  2020-12-31  221.699997  223.000000  ...  222.419998  222.419998  20926900\n",
            "33  2021-01-04  222.529999  223.000000  ...  217.690002  217.690002  37130100\n",
            "34  2021-01-05  217.259995  218.520004  ...  217.899994  217.899994  23823000\n",
            "35  2021-01-06  212.169998  216.490005  ...  212.250000  212.250000  35930700\n",
            "36  2021-01-07  214.039993  219.339996  ...  218.289993  218.289993  27694500\n",
            "37  2021-01-08  218.679993  220.580002  ...  219.619995  219.619995  22949400\n",
            "38  2021-01-11  218.470001  218.910004  ...  217.490005  217.490005  23047000\n",
            "39  2021-01-12  216.500000  217.100006  ...  214.929993  214.929993  23249300\n",
            "40  2021-01-13  214.020004  216.759995  ...  216.339996  216.339996  20087100\n",
            "41  2021-01-14  215.910004  217.460007  ...  213.020004  213.020004  29480800\n",
            "42  2021-01-15  213.520004  214.509995  ...  212.649994  212.649994  31691500\n",
            "43  2021-01-19  213.750000  216.979996  ...  216.440002  216.440002  30480900\n",
            "44  2021-01-20  217.699997  225.789993  ...  224.339996  224.339996  37777300\n",
            "45  2021-01-21  224.699997  226.300003  ...  224.970001  224.970001  30749600\n",
            "46  2021-01-22  227.080002  230.070007  ...  225.949997  225.949997  30124900\n",
            "47  2021-01-25  229.119995  229.779999  ...  229.529999  229.529999  33152100\n",
            "48  2021-01-26  231.860001  234.179993  ...  232.330002  232.330002  49169600\n",
            "49  2021-01-27  238.000000  240.440002  ...  232.899994  232.899994  69870600\n",
            "50  2021-01-28  235.610001  242.639999  ...  238.929993  238.929993  49111200\n",
            "51  2021-01-29  235.990005  238.020004  ...  231.960007  231.960007  42468900\n",
            "52  2021-02-01  235.059998  242.500000  ...  239.649994  239.649994  33314200\n",
            "53  2021-02-02  241.300003  242.309998  ...  239.509995  239.509995  25916300\n",
            "54  2021-02-03  239.570007  245.089996  ...  243.000000  243.000000  27158100\n",
            "55  2021-02-04  242.660004  243.240005  ...  242.009995  242.009995  25296100\n",
            "56  2021-02-05  242.229996  243.279999  ...  242.199997  242.199997  18043900\n",
            "57  2021-02-08  243.149994  243.679993  ...  242.470001  242.470001  22211900\n",
            "\n",
            "[58 rows x 7 columns]\n"
          ],
          "name": "stdout"
        }
      ]
    },
    {
      "cell_type": "markdown",
      "metadata": {
        "id": "ebAl6PWjIEWU"
      },
      "source": [
        "## **Creating Training set**"
      ]
    },
    {
      "cell_type": "code",
      "metadata": {
        "id": "B8FrTgvwIWKx"
      },
      "source": [
        "X_train = []"
      ],
      "execution_count": 64,
      "outputs": []
    },
    {
      "cell_type": "code",
      "metadata": {
        "id": "W6nCi8StO01a"
      },
      "source": [
        "y_train = []"
      ],
      "execution_count": 65,
      "outputs": []
    },
    {
      "cell_type": "code",
      "metadata": {
        "id": "5izBJzgsPONv"
      },
      "source": [
        "for x in range(Prediction_days, len(Scaled_data)):\r\n",
        "  X_train.append(Scaled_data[x-Prediction_days:x, 0])\r\n",
        "  y_train.append(Scaled_data[x, 0])"
      ],
      "execution_count": 66,
      "outputs": []
    },
    {
      "cell_type": "code",
      "metadata": {
        "id": "AjknKGHPP8bf"
      },
      "source": [
        "X_train, y_train = np.array(X_train), np.array(y_train)"
      ],
      "execution_count": 67,
      "outputs": []
    },
    {
      "cell_type": "code",
      "metadata": {
        "id": "FrdIwY0rRPO2"
      },
      "source": [
        "X_train = np.reshape(X_train, (X_train.shape[0], X_train.shape[1], 1))"
      ],
      "execution_count": 68,
      "outputs": []
    },
    {
      "cell_type": "markdown",
      "metadata": {
        "id": "Z0jl0fvXTi7g"
      },
      "source": [
        "## **Building the LSTM Model**"
      ]
    },
    {
      "cell_type": "markdown",
      "metadata": {
        "id": "PchUaDG9bGCQ"
      },
      "source": [
        "## **a) Initializing the Model**"
      ]
    },
    {
      "cell_type": "code",
      "metadata": {
        "id": "pnY_QSrWTrLQ"
      },
      "source": [
        "import tensorflow as tf\r\n",
        "from keras.layers import LSTM\r\n",
        "from keras.layers import Dense\r\n",
        "from keras.layers import Dropout\r\n",
        "from keras.preprocessing.image import ImageDataGenerator\r\n",
        "lstm = tf.keras.models.Sequential()"
      ],
      "execution_count": 69,
      "outputs": []
    },
    {
      "cell_type": "markdown",
      "metadata": {
        "id": "yAYTxqpkcJiI"
      },
      "source": [
        "##**b) LSTM**"
      ]
    },
    {
      "cell_type": "code",
      "metadata": {
        "id": "-ViHNxIacQxu"
      },
      "source": [
        "lstm.add(LSTM(units=40, return_sequences=True, input_shape=(X_train.shape[1], 1)))"
      ],
      "execution_count": 70,
      "outputs": []
    },
    {
      "cell_type": "code",
      "metadata": {
        "id": "-q3bLK4gdMAt"
      },
      "source": [
        "lstm.add(Dropout(0.2))"
      ],
      "execution_count": 71,
      "outputs": []
    },
    {
      "cell_type": "code",
      "metadata": {
        "id": "021m1vsldV3d"
      },
      "source": [
        "lstm.add(LSTM(units=40, return_sequences=True))"
      ],
      "execution_count": 72,
      "outputs": []
    },
    {
      "cell_type": "code",
      "metadata": {
        "id": "wGOtnejcdeOW"
      },
      "source": [
        "lstm.add(Dropout(0.2))"
      ],
      "execution_count": 73,
      "outputs": []
    },
    {
      "cell_type": "code",
      "metadata": {
        "id": "subV44Mpdq5n"
      },
      "source": [
        "lstm.add(LSTM(units =40))"
      ],
      "execution_count": 74,
      "outputs": []
    },
    {
      "cell_type": "code",
      "metadata": {
        "id": "p1BjNsGydy53"
      },
      "source": [
        "lstm.add(Dropout(0.2))"
      ],
      "execution_count": 75,
      "outputs": []
    },
    {
      "cell_type": "markdown",
      "metadata": {
        "id": "bg9w0xBDeGEu"
      },
      "source": [
        "## **c) Output Layer**"
      ]
    },
    {
      "cell_type": "code",
      "metadata": {
        "id": "fmszKPXxeLn3"
      },
      "source": [
        "lstm.add(Dense(units=1))"
      ],
      "execution_count": 76,
      "outputs": []
    },
    {
      "cell_type": "markdown",
      "metadata": {
        "id": "1ifJvUkweZNu"
      },
      "source": [
        "## **d) Training the LSTM**"
      ]
    },
    {
      "cell_type": "code",
      "metadata": {
        "id": "EvG6fZeKeiYf"
      },
      "source": [
        "lstm.compile(optimizer='adam', loss='mean_squared_error')"
      ],
      "execution_count": 77,
      "outputs": []
    },
    {
      "cell_type": "markdown",
      "metadata": {
        "id": "EDfBd-a9e_0o"
      },
      "source": [
        "## **e) Training the LSTM on the Training set**"
      ]
    },
    {
      "cell_type": "code",
      "metadata": {
        "colab": {
          "base_uri": "https://localhost:8080/"
        },
        "id": "O5RCheTafSSG",
        "outputId": "346977a2-0e5e-4d6d-cd55-1d8ab0d3015e"
      },
      "source": [
        "lstm.fit(X_train, y_train, epochs = 50, batch_size = 32)"
      ],
      "execution_count": 78,
      "outputs": [
        {
          "output_type": "stream",
          "text": [
            "Epoch 1/50\n",
            "1/1 [==============================] - 5s 5s/step - loss: 0.7777\n",
            "Epoch 2/50\n",
            "1/1 [==============================] - 0s 59ms/step - loss: 0.6859\n",
            "Epoch 3/50\n",
            "1/1 [==============================] - 0s 57ms/step - loss: 0.6065\n",
            "Epoch 4/50\n",
            "1/1 [==============================] - 0s 57ms/step - loss: 0.5610\n",
            "Epoch 5/50\n",
            "1/1 [==============================] - 0s 58ms/step - loss: 0.4739\n",
            "Epoch 6/50\n",
            "1/1 [==============================] - 0s 69ms/step - loss: 0.3865\n",
            "Epoch 7/50\n",
            "1/1 [==============================] - 0s 63ms/step - loss: 0.2558\n",
            "Epoch 8/50\n",
            "1/1 [==============================] - 0s 63ms/step - loss: 0.1882\n",
            "Epoch 9/50\n",
            "1/1 [==============================] - 0s 60ms/step - loss: 0.0923\n",
            "Epoch 10/50\n",
            "1/1 [==============================] - 0s 63ms/step - loss: 0.0209\n",
            "Epoch 11/50\n",
            "1/1 [==============================] - 0s 62ms/step - loss: 0.0182\n",
            "Epoch 12/50\n",
            "1/1 [==============================] - 0s 61ms/step - loss: 0.1672\n",
            "Epoch 13/50\n",
            "1/1 [==============================] - 0s 60ms/step - loss: 0.1183\n",
            "Epoch 14/50\n",
            "1/1 [==============================] - 0s 59ms/step - loss: 0.1698\n",
            "Epoch 15/50\n",
            "1/1 [==============================] - 0s 63ms/step - loss: 0.0681\n",
            "Epoch 16/50\n",
            "1/1 [==============================] - 0s 62ms/step - loss: 0.0163\n",
            "Epoch 17/50\n",
            "1/1 [==============================] - 0s 61ms/step - loss: 0.0194\n",
            "Epoch 18/50\n",
            "1/1 [==============================] - 0s 61ms/step - loss: 0.0440\n",
            "Epoch 19/50\n",
            "1/1 [==============================] - 0s 65ms/step - loss: 0.0407\n",
            "Epoch 20/50\n",
            "1/1 [==============================] - 0s 67ms/step - loss: 0.0319\n",
            "Epoch 21/50\n",
            "1/1 [==============================] - 0s 60ms/step - loss: 0.0676\n",
            "Epoch 22/50\n",
            "1/1 [==============================] - 0s 67ms/step - loss: 0.0586\n",
            "Epoch 23/50\n",
            "1/1 [==============================] - 0s 56ms/step - loss: 0.0361\n",
            "Epoch 24/50\n",
            "1/1 [==============================] - 0s 62ms/step - loss: 0.0520\n",
            "Epoch 25/50\n",
            "1/1 [==============================] - 0s 64ms/step - loss: 0.0389\n",
            "Epoch 26/50\n",
            "1/1 [==============================] - 0s 63ms/step - loss: 0.0342\n",
            "Epoch 27/50\n",
            "1/1 [==============================] - 0s 59ms/step - loss: 0.0200\n",
            "Epoch 28/50\n",
            "1/1 [==============================] - 0s 58ms/step - loss: 0.0130\n",
            "Epoch 29/50\n",
            "1/1 [==============================] - 0s 61ms/step - loss: 0.0153\n",
            "Epoch 30/50\n",
            "1/1 [==============================] - 0s 59ms/step - loss: 0.0118\n",
            "Epoch 31/50\n",
            "1/1 [==============================] - 0s 60ms/step - loss: 0.0505\n",
            "Epoch 32/50\n",
            "1/1 [==============================] - 0s 62ms/step - loss: 0.0298\n",
            "Epoch 33/50\n",
            "1/1 [==============================] - 0s 68ms/step - loss: 0.0203\n",
            "Epoch 34/50\n",
            "1/1 [==============================] - 0s 58ms/step - loss: 0.0412\n",
            "Epoch 35/50\n",
            "1/1 [==============================] - 0s 63ms/step - loss: 0.0352\n",
            "Epoch 36/50\n",
            "1/1 [==============================] - 0s 57ms/step - loss: 0.0297\n",
            "Epoch 37/50\n",
            "1/1 [==============================] - 0s 61ms/step - loss: 0.0137\n",
            "Epoch 38/50\n",
            "1/1 [==============================] - 0s 65ms/step - loss: 0.0264\n",
            "Epoch 39/50\n",
            "1/1 [==============================] - 0s 63ms/step - loss: 0.0049\n",
            "Epoch 40/50\n",
            "1/1 [==============================] - 0s 61ms/step - loss: 0.0131\n",
            "Epoch 41/50\n",
            "1/1 [==============================] - 0s 61ms/step - loss: 0.0236\n",
            "Epoch 42/50\n",
            "1/1 [==============================] - 0s 63ms/step - loss: 0.0248\n",
            "Epoch 43/50\n",
            "1/1 [==============================] - 0s 62ms/step - loss: 0.0151\n",
            "Epoch 44/50\n",
            "1/1 [==============================] - 0s 61ms/step - loss: 0.0186\n",
            "Epoch 45/50\n",
            "1/1 [==============================] - 0s 60ms/step - loss: 0.0075\n",
            "Epoch 46/50\n",
            "1/1 [==============================] - 0s 61ms/step - loss: 0.0194\n",
            "Epoch 47/50\n",
            "1/1 [==============================] - 0s 61ms/step - loss: 0.0102\n",
            "Epoch 48/50\n",
            "1/1 [==============================] - 0s 59ms/step - loss: 0.0238\n",
            "Epoch 49/50\n",
            "1/1 [==============================] - 0s 62ms/step - loss: 0.0341\n",
            "Epoch 50/50\n",
            "1/1 [==============================] - 0s 58ms/step - loss: 0.0185\n"
          ],
          "name": "stdout"
        },
        {
          "output_type": "execute_result",
          "data": {
            "text/plain": [
              "<tensorflow.python.keras.callbacks.History at 0x7f5833970198>"
            ]
          },
          "metadata": {
            "tags": []
          },
          "execution_count": 78
        }
      ]
    },
    {
      "cell_type": "markdown",
      "metadata": {
        "id": "GTwJTFXwgDgX"
      },
      "source": [
        "## **Loading the Test Data**"
      ]
    },
    {
      "cell_type": "code",
      "metadata": {
        "id": "5S79sWApoyCj"
      },
      "source": [
        "test_start = dt.datetime(2020,11,30)\r\n",
        "test_end = dt.datetime.now()"
      ],
      "execution_count": 79,
      "outputs": []
    },
    {
      "cell_type": "code",
      "metadata": {
        "id": "3ovtnBGeD5mj"
      },
      "source": [
        "test_dataset = web.DataReader(company, 'yahoo', test_start, test_end )"
      ],
      "execution_count": 81,
      "outputs": []
    },
    {
      "cell_type": "code",
      "metadata": {
        "id": "f6aeEu8HE2Ru"
      },
      "source": [
        "actual_prices = test_dataset['Close'].values\r\n",
        "total_dataset = pd.concat((dataset['Close'], test_dataset['Close']), axis=0)\r\n",
        "model_input = total_dataset[len(total_dataset) - len(test_dataset) - Prediction_days:].values"
      ],
      "execution_count": 82,
      "outputs": []
    },
    {
      "cell_type": "code",
      "metadata": {
        "id": "LFlRG7L3GFzG"
      },
      "source": [
        "model_input = model_input.reshape(-1, 1)\r\n",
        "model_input = Scaler.transform(model_input) "
      ],
      "execution_count": 83,
      "outputs": []
    },
    {
      "cell_type": "markdown",
      "metadata": {
        "id": "H2GS1bj9Gn_F"
      },
      "source": [
        "## **Predicitng the Test Set**"
      ]
    },
    {
      "cell_type": "code",
      "metadata": {
        "id": "fczpn5k8GvxM"
      },
      "source": [
        "X_test = []\r\n",
        "for x in range(Prediction_days, len(model_input)):\r\n",
        "  X_test.append(model_input[x-Prediction_days:x, 0])"
      ],
      "execution_count": 86,
      "outputs": []
    },
    {
      "cell_type": "code",
      "metadata": {
        "id": "KYUssqnEHJ08"
      },
      "source": [
        "X_test = np.array(X_test)\r\n",
        "X_test = np.reshape(X_test, (X_test.shape[0], X_test.shape[1], 1))"
      ],
      "execution_count": 87,
      "outputs": []
    },
    {
      "cell_type": "code",
      "metadata": {
        "id": "Q2KWBhbAISwe"
      },
      "source": [
        "predicted_prices = lstm.predict(X_test)\r\n",
        "predicted_prices = Scaler.inverse_transform(predicted_prices)"
      ],
      "execution_count": 89,
      "outputs": []
    },
    {
      "cell_type": "markdown",
      "metadata": {
        "id": "JyJt2n12JN69"
      },
      "source": [
        "## **Plotting the Test Prediction**"
      ]
    },
    {
      "cell_type": "code",
      "metadata": {
        "colab": {
          "base_uri": "https://localhost:8080/",
          "height": 295
        },
        "id": "181wRJ_tJXFE",
        "outputId": "59ca2fc7-af66-41b5-8477-f05e0d3defb3"
      },
      "source": [
        "plt.plot(actual_prices, color='orange', label = f\"Actual {company} Price\")\r\n",
        "plt.plot(predicted_prices, color='blue', label = f\"Predicted {company} Price\")\r\n",
        "plt.title(f\"{company} Share Price\")\r\n",
        "plt.xlabel('Time')\r\n",
        "plt.ylabel(f'{company} Share Price')\r\n",
        "plt.legend()\r\n",
        "plt.show()"
      ],
      "execution_count": 90,
      "outputs": [
        {
          "output_type": "display_data",
          "data": {
            "image/png": "[encoded data removed]",
            "text/plain": [
              "<Figure size 432x288 with 1 Axes>"
            ]
          },
          "metadata": {
            "tags": [],
            "needs_background": "light"
          }
        }
      ]
    },
    {
      "cell_type": "markdown",
      "metadata": {
        "id": "1aEKZ2HpL82G"
      },
      "source": [
        "## **Predict the Next Day**"
      ]
    },
    {
      "cell_type": "code",
      "metadata": {
        "id": "ufnTpH_zMCMv"
      },
      "source": [
        "real_data = [model_input[len(model_input) + 1 - Prediction_days:len(model_input+1), 0]]\r\n",
        "real_data = np.array(real_data)\r\n",
        "real_data = np.reshape(real_data, (real_data.shape[0], real_data.shape[1], 1))\r\n"
      ],
      "execution_count": 91,
      "outputs": []
    },
    {
      "cell_type": "code",
      "metadata": {
        "colab": {
          "base_uri": "https://localhost:8080/"
        },
        "id": "cBSIxz9eOEx-",
        "outputId": "5ea91fbe-8df0-4d33-aefa-1fa28df61b58"
      },
      "source": [
        "prediction = lstm.predict(real_data)\r\n",
        "prediction = Scaler.inverse_transform(prediction)"
      ],
      "execution_count": 92,
      "outputs": [
        {
          "output_type": "stream",
          "text": [
            "WARNING:tensorflow:Model was constructed with shape (None, 50, 1) for input KerasTensor(type_spec=TensorSpec(shape=(None, 50, 1), dtype=tf.float32, name='lstm_6_input'), name='lstm_6_input', description=\"created by layer 'lstm_6_input'\"), but it was called on an input with incompatible shape (None, 49, 1).\n"
          ],
          "name": "stdout"
        }
      ]
    },
    {
      "cell_type": "code",
      "metadata": {
        "colab": {
          "base_uri": "https://localhost:8080/"
        },
        "id": "BmA130YbPA_-",
        "outputId": "40b75f37-290d-4211-85d4-ff5594a5c967"
      },
      "source": [
        "print(f\"prediction: {prediction}\")"
      ],
      "execution_count": 93,
      "outputs": [
        {
          "output_type": "stream",
          "text": [
            "prediction: [[246.19585]]\n"
          ],
          "name": "stdout"
        }
      ]
    }
  ]
}